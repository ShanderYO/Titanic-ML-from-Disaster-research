{
 "cells": [
  {
   "cell_type": "markdown",
   "metadata": {},
   "source": [
    "## Исследование и подготовка данных\n",
    "### Приведение данных к машиночитаемому виду"
   ]
  },
  {
   "cell_type": "code",
   "execution_count": 77,
   "metadata": {
    "collapsed": false
   },
   "outputs": [],
   "source": [
    "import os, pandas, numpy\n",
    "from matplotlib import pyplot\n",
    "%matplotlib inline"
   ]
  },
  {
   "cell_type": "code",
   "execution_count": 105,
   "metadata": {
    "collapsed": true
   },
   "outputs": [],
   "source": [
    "train = pandas.read_csv('train.csv')"
   ]
  },
  {
   "cell_type": "markdown",
   "metadata": {},
   "source": [
    "\n",
    "<pre>\n",
    "### Определение переменных\n",
    "PassengerId - не признак int категориальная\n",
    "Survived - целевое значение bool категориальная\n",
    "Pclass - признак int категориальная\n",
    "Name - не целевое значение string категориальная \n",
    "Sex - признак bool категориальная\n",
    "Age - признак int количественная\n",
    "SibSp - признак int категоральная\n",
    "Parch - признак int категориальная   \n",
    "Ticket - не признак string\n",
    "Fare - признак int количественная \n",
    "Cabin - не признак string\n",
    "Embarked - не признак string"
   ]
  },
  {
   "cell_type": "markdown",
   "metadata": {},
   "source": [
    "<pre>\n",
    "### Пропуски в данных\n",
    "Age            714 non-null float64\n",
    "Cabin          204 non-null object"
   ]
  },
  {
   "cell_type": "code",
   "execution_count": 100,
   "metadata": {
    "collapsed": false
   },
   "outputs": [],
   "source": [
    "# Убираем пропуски в Age заменяя на медиану.\n",
    "age_mediana = train.Age.median()\n",
    "train[\"Age\"] = train[\"Age\"].apply(lambda a: age_mediana if numpy.isnan(a) else a)"
   ]
  },
  {
   "cell_type": "markdown",
   "metadata": {},
   "source": [
    "На основе номера кабины можно классифицировать пассажиров по блокам, в которых размещались их каюты, \n",
    "так как в некоторрых блоках смертность была очень высокой, то этот параметр мог стать очень весомым при предсказании \n",
    "смерти пассажира, но так как данный показатель есть у только четверти пассажиров, то использовать его нельзя. Думаю можно вывести подобную featured на основе Pclass, Fare, Embarked и возможно Ticket. К сожалению в рамках текущего дз, не успел. "
   ]
  },
  {
   "cell_type": "code",
   "execution_count": 102,
   "metadata": {
    "collapsed": true
   },
   "outputs": [],
   "source": [
    "#Sex это логический тип данных, для удобства и скорости дальнейших вычислений преобразуем значение в целочисленный формат.\n",
    "train[\"Sex\"] = train[\"Sex\"].apply(lambda s: 0 if s == \"male\" else 1) # male -> 0, female -> 1\n",
    "\n",
    "# Преобразуем количественную переменную Age в категориальную.\n",
    "train[\"Age\"] = train[\"Age\"].apply(lambda a: str(int(a/10))+'0+' if not numpy.isnan(a) else None)\n",
    "\n",
    "# Преобразуем количественную переменную Age в категориальную.\n",
    "train[\"Fare\"] = train[\"Fare\"].apply(lambda f: str(int(f/10))+'0+' if not numpy.isnan(f) else None)"
   ]
  },
  {
   "cell_type": "code",
   "execution_count": 107,
   "metadata": {
    "collapsed": false
   },
   "outputs": [
    {
     "data": {
      "text/html": [
       "<div>\n",
       "<table border=\"1\" class=\"dataframe\">\n",
       "  <thead>\n",
       "    <tr style=\"text-align: right;\">\n",
       "      <th></th>\n",
       "      <th>PassengerId</th>\n",
       "      <th>Survived</th>\n",
       "      <th>Pclass</th>\n",
       "      <th>Name</th>\n",
       "      <th>Sex</th>\n",
       "      <th>Age</th>\n",
       "      <th>SibSp</th>\n",
       "      <th>Parch</th>\n",
       "      <th>Ticket</th>\n",
       "      <th>Fare</th>\n",
       "      <th>Cabin</th>\n",
       "      <th>Embarked</th>\n",
       "    </tr>\n",
       "  </thead>\n",
       "  <tbody>\n",
       "    <tr>\n",
       "      <th>0</th>\n",
       "      <td>1</td>\n",
       "      <td>0</td>\n",
       "      <td>3</td>\n",
       "      <td>Braund, Mr. Owen Harris</td>\n",
       "      <td>male</td>\n",
       "      <td>22.0</td>\n",
       "      <td>1</td>\n",
       "      <td>0</td>\n",
       "      <td>A/5 21171</td>\n",
       "      <td>7.2500</td>\n",
       "      <td>NaN</td>\n",
       "      <td>S</td>\n",
       "    </tr>\n",
       "    <tr>\n",
       "      <th>1</th>\n",
       "      <td>2</td>\n",
       "      <td>1</td>\n",
       "      <td>1</td>\n",
       "      <td>Cumings, Mrs. John Bradley (Florence Briggs Th...</td>\n",
       "      <td>female</td>\n",
       "      <td>38.0</td>\n",
       "      <td>1</td>\n",
       "      <td>0</td>\n",
       "      <td>PC 17599</td>\n",
       "      <td>71.2833</td>\n",
       "      <td>C85</td>\n",
       "      <td>C</td>\n",
       "    </tr>\n",
       "    <tr>\n",
       "      <th>2</th>\n",
       "      <td>3</td>\n",
       "      <td>1</td>\n",
       "      <td>3</td>\n",
       "      <td>Heikkinen, Miss. Laina</td>\n",
       "      <td>female</td>\n",
       "      <td>26.0</td>\n",
       "      <td>0</td>\n",
       "      <td>0</td>\n",
       "      <td>STON/O2. 3101282</td>\n",
       "      <td>7.9250</td>\n",
       "      <td>NaN</td>\n",
       "      <td>S</td>\n",
       "    </tr>\n",
       "    <tr>\n",
       "      <th>3</th>\n",
       "      <td>4</td>\n",
       "      <td>1</td>\n",
       "      <td>1</td>\n",
       "      <td>Futrelle, Mrs. Jacques Heath (Lily May Peel)</td>\n",
       "      <td>female</td>\n",
       "      <td>35.0</td>\n",
       "      <td>1</td>\n",
       "      <td>0</td>\n",
       "      <td>113803</td>\n",
       "      <td>53.1000</td>\n",
       "      <td>C123</td>\n",
       "      <td>S</td>\n",
       "    </tr>\n",
       "    <tr>\n",
       "      <th>4</th>\n",
       "      <td>5</td>\n",
       "      <td>0</td>\n",
       "      <td>3</td>\n",
       "      <td>Allen, Mr. William Henry</td>\n",
       "      <td>male</td>\n",
       "      <td>35.0</td>\n",
       "      <td>0</td>\n",
       "      <td>0</td>\n",
       "      <td>373450</td>\n",
       "      <td>8.0500</td>\n",
       "      <td>NaN</td>\n",
       "      <td>S</td>\n",
       "    </tr>\n",
       "  </tbody>\n",
       "</table>\n",
       "</div>"
      ],
      "text/plain": [
       "   PassengerId  Survived  Pclass  \\\n",
       "0            1         0       3   \n",
       "1            2         1       1   \n",
       "2            3         1       3   \n",
       "3            4         1       1   \n",
       "4            5         0       3   \n",
       "\n",
       "                                                Name     Sex   Age  SibSp  \\\n",
       "0                            Braund, Mr. Owen Harris    male  22.0      1   \n",
       "1  Cumings, Mrs. John Bradley (Florence Briggs Th...  female  38.0      1   \n",
       "2                             Heikkinen, Miss. Laina  female  26.0      0   \n",
       "3       Futrelle, Mrs. Jacques Heath (Lily May Peel)  female  35.0      1   \n",
       "4                           Allen, Mr. William Henry    male  35.0      0   \n",
       "\n",
       "   Parch            Ticket     Fare Cabin Embarked  \n",
       "0      0         A/5 21171   7.2500   NaN        S  \n",
       "1      0          PC 17599  71.2833   C85        C  \n",
       "2      0  STON/O2. 3101282   7.9250   NaN        S  \n",
       "3      0            113803  53.1000  C123        S  \n",
       "4      0            373450   8.0500   NaN        S  "
      ]
     },
     "execution_count": 107,
     "metadata": {},
     "output_type": "execute_result"
    }
   ],
   "source": [
    "train.head(5)"
   ]
  },
  {
   "cell_type": "markdown",
   "metadata": {},
   "source": [
    "### Одномерный анализ"
   ]
  },
  {
   "cell_type": "code",
   "execution_count": 115,
   "metadata": {
    "collapsed": false
   },
   "outputs": [],
   "source": [
    "def get_surv(column):\n",
    "    df=pandas.DataFrame()\n",
    "    df['total']=train.groupby(column).size()\n",
    "    df['survived'] = train.groupby(column).sum()['Survived']\n",
    "    df['percentage'] = df['survived']/df['total']*100\n",
    "    print(df)\n",
    "    df['survived'].plot(kind=\"bar\")\n",
    "    df['total'].plot(kind=\"bar\",alpha=0.2,title=\"Survivors per \"+str(column), facecolor='g',)\n",
    "    pyplot.show()"
   ]
  },
  {
   "cell_type": "code",
   "execution_count": 117,
   "metadata": {
    "collapsed": false
   },
   "outputs": [
    {
     "name": "stdout",
     "output_type": "stream",
     "text": [
      "        total  survived  percentage\n",
      "Pclass                             \n",
      "1         216       136   62.962963\n",
      "2         184        87   47.282609\n",
      "3         491       119   24.236253\n"
     ]
    },
    {
     "data": {
      "image/png": "[encoded data removed]",
      "text/plain": [
       "<matplotlib.figure.Figure at 0x10e59fb90>"
      ]
     },
     "metadata": {},
     "output_type": "display_data"
    },
    {
     "name": "stdout",
     "output_type": "stream",
     "text": [
      "        total  survived  percentage\n",
      "Sex                                \n",
      "female    314       233   74.203822\n",
      "male      577       109   18.890815\n"
     ]
    },
    {
     "data": {
      "image/png": "[encoded data removed]",
      "text/plain": [
       "<matplotlib.figure.Figure at 0x11a9eb310>"
      ]
     },
     "metadata": {},
     "output_type": "display_data"
    },
    {
     "name": "stdout",
     "output_type": "stream",
     "text": [
      "       total  survived  percentage\n",
      "Age                               \n",
      "0.42       1         1  100.000000\n",
      "0.67       1         1  100.000000\n",
      "0.75       2         2  100.000000\n",
      "0.83       2         2  100.000000\n",
      "0.92       1         1  100.000000\n",
      "1.00       7         5   71.428571\n",
      "2.00      10         3   30.000000\n",
      "3.00       6         5   83.333333\n",
      "4.00      10         7   70.000000\n",
      "5.00       4         4  100.000000\n",
      "6.00       3         2   66.666667\n",
      "7.00       3         1   33.333333\n",
      "8.00       4         2   50.000000\n",
      "9.00       8         2   25.000000\n",
      "10.00      2         0    0.000000\n",
      "11.00      4         1   25.000000\n",
      "12.00      1         1  100.000000\n",
      "13.00      2         2  100.000000\n",
      "14.00      6         3   50.000000\n",
      "14.50      1         0    0.000000\n",
      "15.00      5         4   80.000000\n",
      "16.00     17         6   35.294118\n",
      "17.00     13         6   46.153846\n",
      "18.00     26         9   34.615385\n",
      "19.00     25         9   36.000000\n",
      "20.00     15         3   20.000000\n",
      "20.50      1         0    0.000000\n",
      "21.00     24         5   20.833333\n",
      "22.00     27        11   40.740741\n",
      "23.00     15         5   33.333333\n",
      "...      ...       ...         ...\n",
      "44.00      9         3   33.333333\n",
      "45.00     12         5   41.666667\n",
      "45.50      2         0    0.000000\n",
      "46.00      3         0    0.000000\n",
      "47.00      9         1   11.111111\n",
      "48.00      9         6   66.666667\n",
      "49.00      6         4   66.666667\n",
      "50.00     10         5   50.000000\n",
      "51.00      7         2   28.571429\n",
      "52.00      6         3   50.000000\n",
      "53.00      1         1  100.000000\n",
      "54.00      8         3   37.500000\n",
      "55.00      2         1   50.000000\n",
      "55.50      1         0    0.000000\n",
      "56.00      4         2   50.000000\n",
      "57.00      2         0    0.000000\n",
      "58.00      5         3   60.000000\n",
      "59.00      2         0    0.000000\n",
      "60.00      4         2   50.000000\n",
      "61.00      3         0    0.000000\n",
      "62.00      4         2   50.000000\n",
      "63.00      2         2  100.000000\n",
      "64.00      2         0    0.000000\n",
      "65.00      3         0    0.000000\n",
      "66.00      1         0    0.000000\n",
      "70.00      2         0    0.000000\n",
      "70.50      1         0    0.000000\n",
      "71.00      2         0    0.000000\n",
      "74.00      1         0    0.000000\n",
      "80.00      1         1  100.000000\n",
      "\n",
      "[88 rows x 3 columns]\n"
     ]
    },
    {
     "data": {
      "image/png": "[encoded data removed]",
      "text/plain": [
       "<matplotlib.figure.Figure at 0x11a04ea10>"
      ]
     },
     "metadata": {},
     "output_type": "display_data"
    },
    {
     "name": "stdout",
     "output_type": "stream",
     "text": [
      "       total  survived  percentage\n",
      "SibSp                             \n",
      "0        608       210   34.539474\n",
      "1        209       112   53.588517\n",
      "2         28        13   46.428571\n",
      "3         16         4   25.000000\n",
      "4         18         3   16.666667\n",
      "5          5         0    0.000000\n",
      "8          7         0    0.000000\n"
     ]
    },
    {
     "data": {
      "image/png": "[encoded data removed]",
      "text/plain": [
       "<matplotlib.figure.Figure at 0x11aef3410>"
      ]
     },
     "metadata": {},
     "output_type": "display_data"
    },
    {
     "name": "stdout",
     "output_type": "stream",
     "text": [
      "       total  survived  percentage\n",
      "Parch                             \n",
      "0        678       233   34.365782\n",
      "1        118        65   55.084746\n",
      "2         80        40   50.000000\n",
      "3          5         3   60.000000\n",
      "4          4         0    0.000000\n",
      "5          5         1   20.000000\n",
      "6          1         0    0.000000\n"
     ]
    },
    {
     "data": {
      "image/png": "[encoded data removed]",
      "text/plain": [
       "<matplotlib.figure.Figure at 0x11a50a810>"
      ]
     },
     "metadata": {},
     "output_type": "display_data"
    },
    {
     "name": "stdout",
     "output_type": "stream",
     "text": [
      "          total  survived  percentage\n",
      "Fare                                 \n",
      "0.0000       15         1    6.666667\n",
      "4.0125        1         0    0.000000\n",
      "5.0000        1         0    0.000000\n",
      "6.2375        1         0    0.000000\n",
      "6.4375        1         0    0.000000\n",
      "6.4500        1         0    0.000000\n",
      "6.4958        2         0    0.000000\n",
      "6.7500        2         0    0.000000\n",
      "6.8583        1         0    0.000000\n",
      "6.9500        1         0    0.000000\n",
      "6.9750        2         1   50.000000\n",
      "7.0458        1         0    0.000000\n",
      "7.0500        7         0    0.000000\n",
      "7.0542        2         0    0.000000\n",
      "7.1250        4         0    0.000000\n",
      "7.1417        1         1  100.000000\n",
      "7.2250       12         3   25.000000\n",
      "7.2292       15         4   26.666667\n",
      "7.2500       13         1    7.692308\n",
      "7.3125        1         0    0.000000\n",
      "7.4958        3         1   33.333333\n",
      "7.5208        1         0    0.000000\n",
      "7.5500        4         1   25.000000\n",
      "7.6292        1         0    0.000000\n",
      "7.6500        4         1   25.000000\n",
      "7.7250        1         0    0.000000\n",
      "7.7292        1         0    0.000000\n",
      "7.7333        4         2   50.000000\n",
      "7.7375        2         1   50.000000\n",
      "7.7417        1         0    0.000000\n",
      "...         ...       ...         ...\n",
      "80.0000       2         2  100.000000\n",
      "81.8583       1         1  100.000000\n",
      "82.1708       2         1   50.000000\n",
      "83.1583       3         3  100.000000\n",
      "83.4750       2         1   50.000000\n",
      "86.5000       3         3  100.000000\n",
      "89.1042       2         2  100.000000\n",
      "90.0000       4         3   75.000000\n",
      "91.0792       2         2  100.000000\n",
      "93.5000       2         2  100.000000\n",
      "106.4250      2         1   50.000000\n",
      "108.9000      2         1   50.000000\n",
      "110.8833      4         3   75.000000\n",
      "113.2750      3         2   66.666667\n",
      "120.0000      4         4  100.000000\n",
      "133.6500      2         2  100.000000\n",
      "134.5000      2         2  100.000000\n",
      "135.6333      3         2   66.666667\n",
      "146.5208      2         2  100.000000\n",
      "151.5500      4         2   50.000000\n",
      "153.4625      3         2   66.666667\n",
      "164.8667      2         2  100.000000\n",
      "211.3375      3         3  100.000000\n",
      "211.5000      1         0    0.000000\n",
      "221.7792      1         0    0.000000\n",
      "227.5250      4         3   75.000000\n",
      "247.5208      2         1   50.000000\n",
      "262.3750      2         2  100.000000\n",
      "263.0000      4         2   50.000000\n",
      "512.3292      3         3  100.000000\n",
      "\n",
      "[248 rows x 3 columns]\n"
     ]
    },
    {
     "data": {
      "image/png": "[encoded data removed]",
      "text/plain": [
       "<matplotlib.figure.Figure at 0x11abd5210>"
      ]
     },
     "metadata": {},
     "output_type": "display_data"
    },
    {
     "name": "stdout",
     "output_type": "stream",
     "text": [
      "          total  survived  percentage\n",
      "Embarked                             \n",
      "C           168        93   55.357143\n",
      "Q            77        30   38.961039\n",
      "S           644       217   33.695652\n"
     ]
    },
    {
     "data": {
      "image/png": "[encoded data removed]",
      "text/plain": [
       "<matplotlib.figure.Figure at 0x11b08c1d0>"
      ]
     },
     "metadata": {},
     "output_type": "display_data"
    },
    {
     "data": {
      "text/plain": [
       "[None, None, None, None, None, None, None]"
      ]
     },
     "execution_count": 117,
     "metadata": {},
     "output_type": "execute_result"
    }
   ],
   "source": [
    "[get_surv(v) for v in train.axes[1] if v not in ['Survived', 'PassengerId', 'Name', 'Ticket', 'Cabin',]]"
   ]
  },
  {
   "cell_type": "code",
   "execution_count": 88,
   "metadata": {
    "collapsed": false
   },
   "outputs": [
    {
     "name": "stdout",
     "output_type": "stream",
     "text": [
      "        total  survived  percentage\n",
      "Pclass                             \n",
      "1         216       136   62.962963\n",
      "2         184        87   47.282609\n",
      "3         491       119   24.236253\n"
     ]
    },
    {
     "data": {
      "image/png": "[encoded data removed]",
      "text/plain": [
       "<matplotlib.figure.Figure at 0x11a54a0d0>"
      ]
     },
     "metadata": {},
     "output_type": "display_data"
    }
   ],
   "source": [
    "survival_rate('Pclass')"
   ]
  },
  {
   "cell_type": "code",
   "execution_count": null,
   "metadata": {
    "collapsed": true
   },
   "outputs": [],
   "source": [
    "survival_rate('Sex')"
   ]
  },
  {
   "cell_type": "code",
   "execution_count": null,
   "metadata": {
    "collapsed": true
   },
   "outputs": [],
   "source": [
    "survival_rate('Age')"
   ]
  },
  {
   "cell_type": "code",
   "execution_count": 109,
   "metadata": {
    "collapsed": false
   },
   "outputs": [
    {
     "name": "stdout",
     "output_type": "stream",
     "text": [
      "        total  survived  percentage\n",
      "Pclass                             \n",
      "1         216       136   62.962963\n",
      "2         184        87   47.282609\n",
      "3         491       119   24.236253\n"
     ]
    },
    {
     "data": {
      "image/png": "[encoded data removed]",
      "text/plain": [
       "<matplotlib.figure.Figure at 0x11aabd250>"
      ]
     },
     "metadata": {},
     "output_type": "display_data"
    }
   ],
   "source": [
    "survival_rate('Pclass')"
   ]
  },
  {
   "cell_type": "code",
   "execution_count": null,
   "metadata": {
    "collapsed": true
   },
   "outputs": [],
   "source": [
    "survival_rate('Fare')"
   ]
  },
  {
   "cell_type": "markdown",
   "metadata": {},
   "source": []
  },
  {
   "cell_type": "code",
   "execution_count": null,
   "metadata": {
    "collapsed": true
   },
   "outputs": [],
   "source": []
  }
 ],
 "metadata": {
  "kernelspec": {
   "display_name": "Python 2",
   "language": "python",
   "name": "python2"
  },
  "language_info": {
   "codemirror_mode": {
    "name": "ipython",
    "version": 2
   },
   "file_extension": ".py",
   "mimetype": "text/x-python",
   "name": "python",
   "nbconvert_exporter": "python",
   "pygments_lexer": "ipython2",
   "version": "2.7.13"
  }
 },
 "nbformat": 4,
 "nbformat_minor": 2
}
