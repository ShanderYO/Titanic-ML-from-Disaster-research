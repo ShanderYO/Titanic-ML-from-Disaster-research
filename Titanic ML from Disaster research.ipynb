{
 "cells": [
  {
   "cell_type": "markdown",
   "metadata": {},
   "source": [
    "## Исследование и подготовка данных\n",
    "### Приведение данных к машиночитаемому виду"
   ]
  },
  {
   "cell_type": "code",
   "execution_count": 128,
   "metadata": {
    "collapsed": false
   },
   "outputs": [],
   "source": [
    "import os, pandas, numpy\n",
    "from matplotlib import pyplot\n",
    "%matplotlib inline"
   ]
  },
  {
   "cell_type": "code",
   "execution_count": 129,
   "metadata": {
    "collapsed": true
   },
   "outputs": [],
   "source": [
    "train = pandas.read_csv('train.csv')"
   ]
  },
  {
   "cell_type": "markdown",
   "metadata": {},
   "source": [
    "\n",
    "<pre>\n",
    "### Определение переменных\n",
    "PassengerId - не признак int категориальная\n",
    "Survived - целевое значение bool категориальная\n",
    "Pclass - признак int категориальная\n",
    "Name - не целевое значение string категориальная \n",
    "Sex - признак bool категориальная\n",
    "Age - признак int количественная\n",
    "SibSp - признак int категоральная\n",
    "Parch - признак int категориальная   \n",
    "Ticket - не признак string\n",
    "Fare - признак int количественная \n",
    "Cabin - не признак string\n",
    "Embarked - не признак string"
   ]
  },
  {
   "cell_type": "markdown",
   "metadata": {},
   "source": [
    "<pre>\n",
    "### Пропуски в данных\n",
    "Age            714 non-null float64\n",
    "Cabin          204 non-null object"
   ]
  },
  {
   "cell_type": "code",
   "execution_count": 130,
   "metadata": {
    "collapsed": false
   },
   "outputs": [],
   "source": [
    "# Убираем пропуски в Age заменяя на медиану.\n",
    "age_mediana = train.Age.median()\n",
    "train[\"Age\"] = train[\"Age\"].apply(lambda a: age_mediana if numpy.isnan(a) else a)"
   ]
  },
  {
   "cell_type": "markdown",
   "metadata": {},
   "source": [
    "На основе номера кабины можно классифицировать пассажиров по блокам, в которых размещались их каюты, \n",
    "так как в некоторрых блоках смертность была очень высокой, то этот параметр мог стать очень весомым при предсказании \n",
    "смерти пассажира, но так как данный показатель есть у только четверти пассажиров, то использовать его нельзя. Думаю можно вывести подобную featured на основе Pclass, Fare, Embarked и возможно Ticket. К сожалению в рамках текущего дз, не успел. "
   ]
  },
  {
   "cell_type": "code",
   "execution_count": 131,
   "metadata": {
    "collapsed": true
   },
   "outputs": [],
   "source": [
    "#Sex это логический тип данных, для удобства и скорости дальнейших вычислений преобразуем значение в целочисленный формат.\n",
    "train[\"Sex\"] = train[\"Sex\"].apply(lambda s: 0 if s == \"male\" else 1) # male -> 0, female -> 1\n",
    "\n",
    "# Преобразуем количественную переменную Age в категориальную.\n",
    "train[\"Age\"] = train[\"Age\"].apply(lambda a: str(int(a/10))+'0+' if not numpy.isnan(a) else None)\n",
    "\n",
    "# Преобразуем количественную переменную Age в категориальную.\n",
    "train[\"Fare\"] = train[\"Fare\"].apply(lambda f: str(int(f/10))+'0+' if not numpy.isnan(f) else None)"
   ]
  },
  {
   "cell_type": "code",
   "execution_count": 132,
   "metadata": {
    "collapsed": false
   },
   "outputs": [
    {
     "data": {
      "text/html": [
       "<div>\n",
       "<table border=\"1\" class=\"dataframe\">\n",
       "  <thead>\n",
       "    <tr style=\"text-align: right;\">\n",
       "      <th></th>\n",
       "      <th>PassengerId</th>\n",
       "      <th>Survived</th>\n",
       "      <th>Pclass</th>\n",
       "      <th>Name</th>\n",
       "      <th>Sex</th>\n",
       "      <th>Age</th>\n",
       "      <th>SibSp</th>\n",
       "      <th>Parch</th>\n",
       "      <th>Ticket</th>\n",
       "      <th>Fare</th>\n",
       "      <th>Cabin</th>\n",
       "      <th>Embarked</th>\n",
       "    </tr>\n",
       "  </thead>\n",
       "  <tbody>\n",
       "    <tr>\n",
       "      <th>0</th>\n",
       "      <td>1</td>\n",
       "      <td>0</td>\n",
       "      <td>3</td>\n",
       "      <td>Braund, Mr. Owen Harris</td>\n",
       "      <td>0</td>\n",
       "      <td>20+</td>\n",
       "      <td>1</td>\n",
       "      <td>0</td>\n",
       "      <td>A/5 21171</td>\n",
       "      <td>00+</td>\n",
       "      <td>NaN</td>\n",
       "      <td>S</td>\n",
       "    </tr>\n",
       "    <tr>\n",
       "      <th>1</th>\n",
       "      <td>2</td>\n",
       "      <td>1</td>\n",
       "      <td>1</td>\n",
       "      <td>Cumings, Mrs. John Bradley (Florence Briggs Th...</td>\n",
       "      <td>1</td>\n",
       "      <td>30+</td>\n",
       "      <td>1</td>\n",
       "      <td>0</td>\n",
       "      <td>PC 17599</td>\n",
       "      <td>70+</td>\n",
       "      <td>C85</td>\n",
       "      <td>C</td>\n",
       "    </tr>\n",
       "    <tr>\n",
       "      <th>2</th>\n",
       "      <td>3</td>\n",
       "      <td>1</td>\n",
       "      <td>3</td>\n",
       "      <td>Heikkinen, Miss. Laina</td>\n",
       "      <td>1</td>\n",
       "      <td>20+</td>\n",
       "      <td>0</td>\n",
       "      <td>0</td>\n",
       "      <td>STON/O2. 3101282</td>\n",
       "      <td>00+</td>\n",
       "      <td>NaN</td>\n",
       "      <td>S</td>\n",
       "    </tr>\n",
       "    <tr>\n",
       "      <th>3</th>\n",
       "      <td>4</td>\n",
       "      <td>1</td>\n",
       "      <td>1</td>\n",
       "      <td>Futrelle, Mrs. Jacques Heath (Lily May Peel)</td>\n",
       "      <td>1</td>\n",
       "      <td>30+</td>\n",
       "      <td>1</td>\n",
       "      <td>0</td>\n",
       "      <td>113803</td>\n",
       "      <td>50+</td>\n",
       "      <td>C123</td>\n",
       "      <td>S</td>\n",
       "    </tr>\n",
       "    <tr>\n",
       "      <th>4</th>\n",
       "      <td>5</td>\n",
       "      <td>0</td>\n",
       "      <td>3</td>\n",
       "      <td>Allen, Mr. William Henry</td>\n",
       "      <td>0</td>\n",
       "      <td>30+</td>\n",
       "      <td>0</td>\n",
       "      <td>0</td>\n",
       "      <td>373450</td>\n",
       "      <td>00+</td>\n",
       "      <td>NaN</td>\n",
       "      <td>S</td>\n",
       "    </tr>\n",
       "  </tbody>\n",
       "</table>\n",
       "</div>"
      ],
      "text/plain": [
       "   PassengerId  Survived  Pclass  \\\n",
       "0            1         0       3   \n",
       "1            2         1       1   \n",
       "2            3         1       3   \n",
       "3            4         1       1   \n",
       "4            5         0       3   \n",
       "\n",
       "                                                Name  Sex  Age  SibSp  Parch  \\\n",
       "0                            Braund, Mr. Owen Harris    0  20+      1      0   \n",
       "1  Cumings, Mrs. John Bradley (Florence Briggs Th...    1  30+      1      0   \n",
       "2                             Heikkinen, Miss. Laina    1  20+      0      0   \n",
       "3       Futrelle, Mrs. Jacques Heath (Lily May Peel)    1  30+      1      0   \n",
       "4                           Allen, Mr. William Henry    0  30+      0      0   \n",
       "\n",
       "             Ticket Fare Cabin Embarked  \n",
       "0         A/5 21171  00+   NaN        S  \n",
       "1          PC 17599  70+   C85        C  \n",
       "2  STON/O2. 3101282  00+   NaN        S  \n",
       "3            113803  50+  C123        S  \n",
       "4            373450  00+   NaN        S  "
      ]
     },
     "execution_count": 132,
     "metadata": {},
     "output_type": "execute_result"
    }
   ],
   "source": [
    "train.head(5)"
   ]
  },
  {
   "cell_type": "markdown",
   "metadata": {},
   "source": [
    "### Одномерный анализ"
   ]
  },
  {
   "cell_type": "code",
   "execution_count": 133,
   "metadata": {
    "collapsed": false
   },
   "outputs": [],
   "source": [
    "def get_surv(column):\n",
    "    df=pandas.DataFrame()\n",
    "    df['total']=train.groupby(column).size()\n",
    "    df['survived'] = train.groupby(column).sum()['Survived']\n",
    "    df['percentage'] = df['survived']/df['total']*100\n",
    "    print(df)\n",
    "    df['survived'].plot(kind=\"bar\")\n",
    "    df['total'].plot(kind=\"bar\",alpha=0.2,title=\"Survivors per \"+str(column), facecolor='g',)\n",
    "    pyplot.show()"
   ]
  },
  {
   "cell_type": "code",
   "execution_count": 137,
   "metadata": {
    "collapsed": false
   },
   "outputs": [
    {
     "name": "stdout",
     "output_type": "stream",
     "text": [
      "        total  survived  percentage\n",
      "Pclass                             \n",
      "1         216       136   62.962963\n",
      "2         184        87   47.282609\n",
      "3         491       119   24.236253\n"
     ]
    },
    {
     "data": {
      "image/png": "[encoded data removed]",
      "text/plain": [
       "<matplotlib.figure.Figure at 0x11a8f4910>"
      ]
     },
     "metadata": {},
     "output_type": "display_data"
    }
   ],
   "source": [
    "survival_rate('Pclass')"
   ]
  },
  {
   "cell_type": "code",
   "execution_count": 138,
   "metadata": {
    "collapsed": false
   },
   "outputs": [
    {
     "name": "stdout",
     "output_type": "stream",
     "text": [
      "     total  survived  percentage\n",
      "Sex                             \n",
      "0      577       109   18.890815\n",
      "1      314       233   74.203822\n"
     ]
    },
    {
     "data": {
      "image/png": "[encoded data removed]",
      "text/plain": [
       "<matplotlib.figure.Figure at 0x11ae15950>"
      ]
     },
     "metadata": {},
     "output_type": "display_data"
    }
   ],
   "source": [
    "survival_rate('Sex')"
   ]
  },
  {
   "cell_type": "code",
   "execution_count": 139,
   "metadata": {
    "collapsed": false
   },
   "outputs": [
    {
     "name": "stdout",
     "output_type": "stream",
     "text": [
      "     total  survived  percentage\n",
      "Age                             \n",
      "00+     62        38   61.290323\n",
      "10+    102        41   40.196078\n",
      "20+    397       129   32.493703\n",
      "30+    167        73   43.712575\n",
      "40+     89        34   38.202247\n",
      "50+     48        20   41.666667\n",
      "60+     19         6   31.578947\n",
      "70+      6         0    0.000000\n",
      "80+      1         1  100.000000\n"
     ]
    },
    {
     "data": {
      "image/png": "[encoded data removed]",
      "text/plain": [
       "<matplotlib.figure.Figure at 0x11a6e1fd0>"
      ]
     },
     "metadata": {},
     "output_type": "display_data"
    }
   ],
   "source": [
    "survival_rate('Age')"
   ]
  },
  {
   "cell_type": "code",
   "execution_count": 140,
   "metadata": {
    "collapsed": false
   },
   "outputs": [
    {
     "name": "stdout",
     "output_type": "stream",
     "text": [
      "       total  survived  percentage\n",
      "SibSp                             \n",
      "0        608       210   34.539474\n",
      "1        209       112   53.588517\n",
      "2         28        13   46.428571\n",
      "3         16         4   25.000000\n",
      "4         18         3   16.666667\n",
      "5          5         0    0.000000\n",
      "8          7         0    0.000000\n"
     ]
    },
    {
     "data": {
      "image/png": "[encoded data removed]",
      "text/plain": [
       "<matplotlib.figure.Figure at 0x11b0da110>"
      ]
     },
     "metadata": {},
     "output_type": "display_data"
    }
   ],
   "source": [
    "survival_rate('SibSp')"
   ]
  },
  {
   "cell_type": "code",
   "execution_count": 141,
   "metadata": {
    "collapsed": false
   },
   "outputs": [
    {
     "name": "stdout",
     "output_type": "stream",
     "text": [
      "       total  survived  percentage\n",
      "Parch                             \n",
      "0        678       233   34.365782\n",
      "1        118        65   55.084746\n",
      "2         80        40   50.000000\n",
      "3          5         3   60.000000\n",
      "4          4         0    0.000000\n",
      "5          5         1   20.000000\n",
      "6          1         0    0.000000\n"
     ]
    },
    {
     "data": {
      "image/png": "[encoded data removed]",
      "text/plain": [
       "<matplotlib.figure.Figure at 0x11a123190>"
      ]
     },
     "metadata": {},
     "output_type": "display_data"
    }
   ],
   "source": [
    "survival_rate('Parch')"
   ]
  },
  {
   "cell_type": "code",
   "execution_count": 142,
   "metadata": {
    "collapsed": false
   },
   "outputs": [
    {
     "name": "stdout",
     "output_type": "stream",
     "text": [
      "      total  survived  percentage\n",
      "Fare                             \n",
      "00+     336        67   19.940476\n",
      "10+     179        76   42.458101\n",
      "100+      4         2   50.000000\n",
      "110+      7         5   71.428571\n",
      "120+      4         4  100.000000\n",
      "130+      7         6   85.714286\n",
      "140+      2         2  100.000000\n",
      "150+      7         4   57.142857\n",
      "160+      2         2  100.000000\n",
      "20+     136        58   42.647059\n",
      "210+      4         3   75.000000\n",
      "220+      5         3   60.000000\n",
      "240+      2         1   50.000000\n",
      "260+      6         4   66.666667\n",
      "30+      64        28   43.750000\n",
      "40+      15         4   26.666667\n",
      "50+      39        27   69.230769\n",
      "510+      3         3  100.000000\n",
      "60+      17         6   35.294118\n",
      "70+      29        17   58.620690\n",
      "80+      15        13   86.666667\n",
      "90+       8         7   87.500000\n"
     ]
    },
    {
     "data": {
      "image/png": "[encoded data removed]",
      "text/plain": [
       "<matplotlib.figure.Figure at 0x11aa43990>"
      ]
     },
     "metadata": {},
     "output_type": "display_data"
    }
   ],
   "source": [
    "survival_rate('Fare')"
   ]
  },
  {
   "cell_type": "code",
   "execution_count": 143,
   "metadata": {
    "collapsed": false
   },
   "outputs": [
    {
     "name": "stdout",
     "output_type": "stream",
     "text": [
      "          total  survived  percentage\n",
      "Embarked                             \n",
      "C           168        93   55.357143\n",
      "Q            77        30   38.961039\n",
      "S           644       217   33.695652\n"
     ]
    },
    {
     "data": {
      "image/png": "[encoded data removed]",
      "text/plain": [
       "<matplotlib.figure.Figure at 0x11a6a9910>"
      ]
     },
     "metadata": {},
     "output_type": "display_data"
    }
   ],
   "source": [
    "survival_rate('Embarked')"
   ]
  }
 ],
 "metadata": {
  "kernelspec": {
   "display_name": "Python 2",
   "language": "python",
   "name": "python2"
  },
  "language_info": {
   "codemirror_mode": {
    "name": "ipython",
    "version": 2
   },
   "file_extension": ".py",
   "mimetype": "text/x-python",
   "name": "python",
   "nbconvert_exporter": "python",
   "pygments_lexer": "ipython2",
   "version": "2.7.13"
  }
 },
 "nbformat": 4,
 "nbformat_minor": 2
}
